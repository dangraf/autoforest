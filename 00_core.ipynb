{
 "cells": [
  {
   "cell_type": "code",
   "execution_count": null,
   "metadata": {},
   "outputs": [],
   "source": [
    "# default_exp autoforest"
   ]
  },
  {
   "cell_type": "markdown",
   "metadata": {},
   "source": [
    "# module name here\n",
    "\n",
    "> API details."
   ]
  },
  {
   "cell_type": "code",
   "execution_count": 1,
   "metadata": {},
   "outputs": [],
   "source": [
    "#export\n",
    "import pandas as pd\n",
    "from sklearn.ensemble import RandomForestRegressor\n",
    "import numpy as np\n",
    "import matplotlib.pyplot as plt\n",
    "import sklearn.ensemble as forest\n",
    "import GPyOpt\n",
    "import GPy\n",
    "import math\n",
    "import scipy\n",
    "from scipy.cluster import hierarchy as hc\n",
    "\n",
    "%reload_ext autoreload\n",
    "%autoreload 2\n",
    "%matplotlib inline"
   ]
  },
  {
   "cell_type": "code",
   "execution_count": 2,
   "metadata": {},
   "outputs": [],
   "source": [
    "#hide\n",
    "from nbdev.showdoc import *"
   ]
  },
  {
   "cell_type": "code",
   "execution_count": 3,
   "metadata": {},
   "outputs": [],
   "source": [
    "filename = \"Train_cleaned.csv\"           # dataframe containing all the data\n",
    "y_col_name = 'SalePrice'         # name of the column we are going to predict\n",
    "split_pct = 0.2             # size of verification dataset\n",
    "max_train_time_s = 20         # maximum runtime for one epoch of the data. If it takes longer, the data is cut during search\n",
    "time_series = False          # used for validation set, if true, the last split_pct is used, otherwize, random sampled validation\n",
    "max_iter = 50             # maximum number of tries to find optimal hyper parameters\n",
    "nfold = 3                 #number of tests for each set of hyper-parameters to get a more stable result"
   ]
  },
  {
   "cell_type": "code",
   "execution_count": 4,
   "metadata": {},
   "outputs": [],
   "source": [
    "df = pd.read_csv(filename,low_memory=False)"
   ]
  },
  {
   "cell_type": "markdown",
   "metadata": {},
   "source": [
    "# Handle Data"
   ]
  },
  {
   "cell_type": "code",
   "execution_count": 5,
   "metadata": {},
   "outputs": [],
   "source": [
    "#export\n",
    "def split_data(df_x, df_y, pct):\n",
    "    \"Splits the data into train and validation set\"\n",
    "    \" pct: 0-1 depending on how much that is in validation set\"\n",
    "    df_x.reset_index(inplace=True, drop=True)\n",
    "    df_y.reset_index(inplace=True, drop=True)\n",
    "\n",
    "    l = int(len(df_x) * pct)\n",
    "    x_train = df_x.iloc[:-l]\n",
    "    x_valid = df_x.iloc[-l:]\n",
    "    y_train = df_y.iloc[:-l]\n",
    "    y_valid = df_y.iloc[-l:]\n",
    "    return x_train, y_train, x_valid, y_valid\n",
    "\n",
    "def split_data_by_time(df, sampled_time=0, max_train_time_s=np.inf):\n",
    "    \"\"\"\n",
    "    splits the data into smaller size if it takes too long to make one test-run\n",
    "    \"\"\"\n",
    "    if not time_series:\n",
    "        df = df.sample(frac=1.0).reset_index(drop=True)\n",
    "    if max_train_time_s < sampled_time:\n",
    "        psamp = max_train_time_s/sampled_time\n",
    "        df_samp = df.sample(frac = psamp)\n",
    "        print(f'Pruning data to len: {len(df)}')\n",
    "    else:\n",
    "        df_samp = df\n",
    "    df_y_samp = df_samp[y_col_name]\n",
    "    df_x_samp = df_samp.drop(y_col_name, axis=1)\n",
    "    return  split_data(df_x_samp, df_y_samp, split_pct)"
   ]
  },
  {
   "cell_type": "code",
   "execution_count": 6,
   "metadata": {},
   "outputs": [
    {
     "name": "stdout",
     "output_type": "stream",
     "text": [
      "Pruning data to len: 401125\n"
     ]
    }
   ],
   "source": [
    "x_train, y_train, x_valid, y_valid = split_data_by_time(df, sampled_time=10, max_train_time_s = 5)\n",
    "assert len(x_train) + len(x_valid) == len(df)//2\n",
    "x_train, y_train, x_valid, y_valid = split_data_by_time(df)\n",
    "assert len(x_train) + len(x_valid) == len(df)\n",
    "\n",
    "data = split_data_by_time(df)\n",
    "assert len(data) == 4"
   ]
  },
  {
   "cell_type": "code",
   "execution_count": 7,
   "metadata": {},
   "outputs": [],
   "source": [
    "#export\n",
    "def rmse(x,y): \n",
    "    return math.sqrt(((x-y)**2).mean())\n",
    "\n",
    "def print_score(m, data):\n",
    "    x_train, y_train, x_valid, y_valid = data\n",
    "    res = [rmse(m.predict(x_train), y_train), \n",
    "           rmse(m.predict(x_valid), y_valid),\n",
    "                m.score(x_train, y_train), \n",
    "                m.score(x_valid, y_valid)]\n",
    "    if hasattr(m, 'oob_score_'): \n",
    "        extra = f' oob_score_:{m.oob_score_}'\n",
    "    else:\n",
    "        extra = ''\n",
    "        \n",
    "    print(f'rmse t:{res[0]}, rmse v:{res[1]} score t:{res[2]} score v:{res[3]}'+extra)\n",
    "    return res[1]\n",
    "\n",
    "def set_rf_samples(n):\n",
    "    \"\"\" Changes Scikit learn's random forests to give each tree a random sample of\n",
    "    n random rows.\n",
    "    \"\"\"\n",
    "    forest._generate_sample_indices = (lambda rs, n_samples:\n",
    "        forest.check_random_state(rs).randint(0, n_samples, n))\n",
    "\n",
    "def reset_rf_samples():\n",
    "    \"\"\" Undoes the changes produced by set_rf_samples.\n",
    "    \"\"\"\n",
    "    forest._generate_sample_indices = (lambda rs, n_samples:\n",
    "        forest.check_random_state(rs).randint(0, n_samples, n_samples))"
   ]
  },
  {
   "cell_type": "code",
   "execution_count": 23,
   "metadata": {},
   "outputs": [],
   "source": [
    "#export\n",
    "def run_rf_regressor(data,min_sample_leaf:int=4, n_estimators:int=40, sample_frac:float=0.2, max_features:float=0.5):\n",
    "    \"\"\"\n",
    "    todo, set max num samples to speed up the classification\n",
    "    \"\"\"\n",
    "    x_train, y_train, x_valid, y_valid = data\n",
    "    set_rf_samples(int(len(x_train)*sample_frac))\n",
    "    m = RandomForestRegressor(n_estimators=n_estimators, \n",
    "                              n_jobs=-1,\n",
    "                              oob_score=True, \n",
    "                              min_samples_leaf=min_sample_leaf,\n",
    "                              max_features=max_features)\n",
    "    m.fit(x_train, y_train)\n",
    "    rmse_valid = print_score(m,data)\n",
    "    return rmse_valid, m"
   ]
  },
  {
   "cell_type": "code",
   "execution_count": 9,
   "metadata": {},
   "outputs": [],
   "source": [
    "#export\n",
    "def predict(m, df):\n",
    "    preds = np.stack([t.predict(df) for t in m.estimators_])\n",
    "    conf = np.std(preds, axis=0)\n",
    "    pred = np.mean(preds,axis=0)\n",
    "    return pred,conf"
   ]
  },
  {
   "cell_type": "code",
   "execution_count": 24,
   "metadata": {},
   "outputs": [
    {
     "name": "stdout",
     "output_type": "stream",
     "text": [
      "rmse t:0.13524997042106074, rmse v:0.20674924991151286 score t:0.9620121186027443 score v:0.9108347312800409 oob_score_:0.9080081090708079\n"
     ]
    }
   ],
   "source": [
    "res, m = run_rf_regressor(data)"
   ]
  },
  {
   "cell_type": "code",
   "execution_count": 25,
   "metadata": {},
   "outputs": [],
   "source": [
    "#export\n",
    "\n",
    "def get_tree_confidence(m, x_data):\n",
    "    # returns rmse for validation set (% error) and std(confidence) among the estimators of the tree\n",
    "    preds = np.stack([t.predict(x_data) for t in m.estimators_])\n",
    "    stds = np.std(preds,axis=0)\n",
    "    return stds.mean()"
   ]
  },
  {
   "cell_type": "code",
   "execution_count": 26,
   "metadata": {},
   "outputs": [],
   "source": [
    "preds, conf = predict(m, x_valid)\n",
    "tree_conf = get_tree_confidence(m, x_valid)\n",
    "\n",
    "assert conf.mean() ==tree_conf"
   ]
  },
  {
   "cell_type": "markdown",
   "metadata": {},
   "source": [
    "# Feature Importance"
   ]
  },
  {
   "cell_type": "code",
   "execution_count": 31,
   "metadata": {},
   "outputs": [],
   "source": [
    "#export\n",
    "def rf_feat_importance(m, df):\n",
    "    \"\"\" returns a dataframe containing all columns together with feature importance\"\"\"\n",
    "    return pd.DataFrame({'cols':df.columns, 'imp':m.feature_importances_}\n",
    "                       ).sort_values('imp', ascending=False)\n",
    "\n",
    "def rf_plot_fi(df_fi): \n",
    "    return df_fi.plot('cols', 'imp', 'barh', figsize=(12,7), legend=False)"
   ]
  },
  {
   "cell_type": "code",
   "execution_count": 35,
   "metadata": {},
   "outputs": [
    {
     "data": {
      "text/html": [
       "<div>\n",
       "<style scoped>\n",
       "    .dataframe tbody tr th:only-of-type {\n",
       "        vertical-align: middle;\n",
       "    }\n",
       "\n",
       "    .dataframe tbody tr th {\n",
       "        vertical-align: top;\n",
       "    }\n",
       "\n",
       "    .dataframe thead th {\n",
       "        text-align: right;\n",
       "    }\n",
       "</style>\n",
       "<table border=\"1\" class=\"dataframe\">\n",
       "  <thead>\n",
       "    <tr style=\"text-align: right;\">\n",
       "      <th></th>\n",
       "      <th>cols</th>\n",
       "      <th>imp</th>\n",
       "    </tr>\n",
       "  </thead>\n",
       "  <tbody>\n",
       "    <tr>\n",
       "      <th>6</th>\n",
       "      <td>YearMade</td>\n",
       "      <td>0.173210</td>\n",
       "    </tr>\n",
       "    <tr>\n",
       "      <th>38</th>\n",
       "      <td>Coupler_System</td>\n",
       "      <td>0.110159</td>\n",
       "    </tr>\n",
       "    <tr>\n",
       "      <th>14</th>\n",
       "      <td>ProductSize</td>\n",
       "      <td>0.104233</td>\n",
       "    </tr>\n",
       "    <tr>\n",
       "      <th>15</th>\n",
       "      <td>fiProductClassDesc</td>\n",
       "      <td>0.081046</td>\n",
       "    </tr>\n",
       "    <tr>\n",
       "      <th>3</th>\n",
       "      <td>ModelID</td>\n",
       "      <td>0.054392</td>\n",
       "    </tr>\n",
       "  </tbody>\n",
       "</table>\n",
       "</div>"
      ],
      "text/plain": [
       "                  cols       imp\n",
       "6             YearMade  0.173210\n",
       "38      Coupler_System  0.110159\n",
       "14         ProductSize  0.104233\n",
       "15  fiProductClassDesc  0.081046\n",
       "3              ModelID  0.054392"
      ]
     },
     "execution_count": 35,
     "metadata": {},
     "output_type": "execute_result"
    }
   ],
   "source": [
    "df_imp = rf_feat_importance(m, df.drop(y_col_name,axis=1))\n",
    "df_imp.head()"
   ]
  },
  {
   "cell_type": "code",
   "execution_count": 36,
   "metadata": {},
   "outputs": [
    {
     "data": {
      "text/plain": [
       "<matplotlib.axes._subplots.AxesSubplot at 0x7fdc4a3ba910>"
      ]
     },
     "execution_count": 36,
     "metadata": {},
     "output_type": "execute_result"
    },
    {
     "data": {
      "image/png": "[encoded data removed]",
      "text/plain": [
       "<Figure size 864x504 with 1 Axes>"
      ]
     },
     "metadata": {
      "needs_background": "light"
     },
     "output_type": "display_data"
    }
   ],
   "source": [
    "df_imp = df_imp[df_imp['imp']>0.005]\n",
    "rf_plot_fi(df_imp)"
   ]
  },
  {
   "cell_type": "markdown",
   "metadata": {},
   "source": [
    "# Highly Correlated Variables\n",
    "Variables that gives the same information (but might be x and log(x)) can confuse the model and need to be removed.\n",
    "This is a way to find the variables"
   ]
  },
  {
   "cell_type": "code",
   "execution_count": 37,
   "metadata": {},
   "outputs": [],
   "source": [
    "def rf_get_correlation_matrix(df):\n",
    "    corr = np.round(scipy.stats.spearmanr(df).correlation, 4)\n",
    "    return corr"
   ]
  },
  {
   "cell_type": "code",
   "execution_count": 38,
   "metadata": {},
   "outputs": [],
   "source": [
    "def rf_plot_var_linkage(corr):\n",
    "    corr_condensed = hc.distance.squareform(1-corr)\n",
    "    z = hc.linkage(corr_condensed, method='average')\n",
    "    fig = plt.figure(figsize=(16,10))\n",
    "    dendrogram = hc.dendrogram(z, labels=df_pruned.columns, orientation='left', leaf_font_size=16)\n",
    "    plt.show()"
   ]
  },
  {
   "cell_type": "markdown",
   "metadata": {},
   "source": [
    "### graph explanation\n",
    "The graph below tells us the correlation of parameters in the input dataset.\n",
    "Sale_Year and saleElapsed are almost identical, Unnamed:0 and SalesID are also highly similar"
   ]
  },
  {
   "cell_type": "code",
   "execution_count": 66,
   "metadata": {},
   "outputs": [
    {
     "data": {
      "image/png": "[encoded data removed]",
      "text/plain": [
       "<Figure size 1152x720 with 1 Axes>"
      ]
     },
     "metadata": {
      "needs_background": "light"
     },
     "output_type": "display_data"
    }
   ],
   "source": [
    "df_pruned = df[df_imp['cols']].copy()\n",
    "corr = rf_get_correlation_matrix(df_pruned)\n",
    "rf_plot_var_linkage(corr)"
   ]
  },
  {
   "cell_type": "code",
   "execution_count": 78,
   "metadata": {},
   "outputs": [],
   "source": [
    "#export\n",
    "def _get_list_of_high_corr(corr ,corr_limit):\n",
    "    p = np.argwhere(np.triu(corr>corr_limit,1))\n",
    "    l = list(p)\n",
    "    return l\n",
    "    \n",
    "def _del_param_in_array(arr, value):\n",
    "    for i in range(len(arr)-1,0,-1):\n",
    "        if arr[i-1][0] == value:\n",
    "            del arr[i-1]\n",
    "            \n",
    "def _del_duplicated_columns(arr):\n",
    "    i=0\n",
    "    while(i<len(arr)):\n",
    "        _del_param_in_array(arr,arr[i][1])\n",
    "        i+=1\n",
    "    return arr\n",
    "# todo, fix this to return an array of arrays instead of dict\n",
    "def _arrays_to_colnames(arr,df):\n",
    "    data = dict()\n",
    "    for i in range(len(arr)):\n",
    "        temp = data.get(arr[i][0],list())\n",
    "        if len(temp)==0:\n",
    "            colname = df.columns[arr[i][0]]\n",
    "            temp.append(colname)\n",
    "        colname = df.columns[arr[i][1]]\n",
    "        temp.append(colname)\n",
    "        data[arr[i][0]]  = temp\n",
    "    return data\n",
    "    \n",
    "def get_pairs(df, corr_limit = 0.98):\n",
    "    corr = rf_get_correlation_matrix(df)\n",
    "    l = _get_list_of_high_corr(corr, corr_limit)\n",
    "    _del_duplicated_columns(l)\n",
    "    \n",
    "    return _arrays_to_colnames(l, df)\n",
    "    "
   ]
  },
  {
   "cell_type": "code",
   "execution_count": 79,
   "metadata": {},
   "outputs": [
    {
     "data": {
      "text/plain": [
       "{1: ['Coupler_System', 'Grouser_Tracks', 'Hydraulics_Flow'],\n",
       " 6: ['saleElapsed', 'saleYear'],\n",
       " 10: ['fiModelDesc', 'fiBaseModel'],\n",
       " 13: ['SalesID', 'Unnamed: 0'],\n",
       " 18: ['ProductGroup', 'ProductGroupDesc']}"
      ]
     },
     "execution_count": 79,
     "metadata": {},
     "output_type": "execute_result"
    }
   ],
   "source": [
    "get_pairs(df_pruned)"
   ]
  },
  {
   "cell_type": "markdown",
   "metadata": {},
   "source": [
    "# gpyopt optimizer"
   ]
  },
  {
   "cell_type": "code",
   "execution_count": null,
   "metadata": {},
   "outputs": [],
   "source": []
  },
  {
   "cell_type": "code",
   "execution_count": 87,
   "metadata": {},
   "outputs": [
    {
     "name": "stdout",
     "output_type": "stream",
     "text": [
      "Converted 00_core.ipynb.\n",
      "Converted index.ipynb.\n"
     ]
    }
   ],
   "source": [
    "from nbdev.export import *\n",
    "notebook2script()"
   ]
  }
 ],
 "metadata": {
  "kernelspec": {
   "display_name": "Python 3",
   "language": "python",
   "name": "python3"
  },
  "language_info": {
   "codemirror_mode": {
    "name": "ipython",
    "version": 3
   },
   "file_extension": ".py",
   "mimetype": "text/x-python",
   "name": "python",
   "nbconvert_exporter": "python",
   "pygments_lexer": "ipython3",
   "version": "3.7.4"
  }
 },
 "nbformat": 4,
 "nbformat_minor": 2
}
