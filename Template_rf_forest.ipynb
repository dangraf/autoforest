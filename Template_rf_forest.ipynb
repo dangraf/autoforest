{
 "cells": [
  {
   "cell_type": "code",
   "execution_count": 1,
   "id": "c3d717f2",
   "metadata": {},
   "outputs": [],
   "source": [
    "import pandas as pd\n",
    "import numpy as np\n",
    "from autoforest.regressor import *\n",
    "from autoforest.cleaner import *\n",
    "from fastai.tabular.all import *\n",
    "%reload_ext autoreload\n",
    "%autoreload 2"
   ]
  },
  {
   "cell_type": "code",
   "execution_count": 2,
   "id": "373cac44",
   "metadata": {},
   "outputs": [],
   "source": [
    "from autoforest.reg import *"
   ]
  },
  {
   "cell_type": "code",
   "execution_count": 3,
   "id": "504d7380",
   "metadata": {},
   "outputs": [],
   "source": [
    "filename = \"Buldozers.csv\"           # dataframe containing all the data\n",
    "y_col_name = 'SalePrice'         # name of the column we are going to predict\n",
    "split_pct = 0.2             # size of verification dataset\n",
    "datefield = 'saledate'     # name of the field containing the date-part"
   ]
  },
  {
   "cell_type": "markdown",
   "id": "e5142fb7",
   "metadata": {},
   "source": [
    "# Read and Clean data"
   ]
  },
  {
   "cell_type": "code",
   "execution_count": 4,
   "id": "ef89fd15",
   "metadata": {},
   "outputs": [],
   "source": [
    "df = pd.read_csv(filename, low_memory=False)"
   ]
  },
  {
   "cell_type": "code",
   "execution_count": 5,
   "id": "1aa77378",
   "metadata": {},
   "outputs": [],
   "source": [
    "df = fix_dataframe(df, datefield= datefield, y_col_name = y_col_name)"
   ]
  },
  {
   "cell_type": "code",
   "execution_count": 6,
   "id": "ac93abb1",
   "metadata": {},
   "outputs": [],
   "source": [
    "splits = split_by_date(df, pct=0.2)"
   ]
  },
  {
   "cell_type": "code",
   "execution_count": 7,
   "id": "9f1383b9",
   "metadata": {},
   "outputs": [],
   "source": [
    "df = add_datepart(df, datefield)\n",
    "procs = [Categorify, FillMissing]\n",
    "cont,cat = cont_cat_split(df, 1, dep_var = y_col_name)"
   ]
  },
  {
   "cell_type": "code",
   "execution_count": 8,
   "id": "d3c95158",
   "metadata": {},
   "outputs": [],
   "source": [
    "to = TabularPandas(df, procs, cat, cont, y_names=y_col_name, splits=splits)"
   ]
  },
  {
   "cell_type": "code",
   "execution_count": 9,
   "id": "3f4dd935",
   "metadata": {},
   "outputs": [
    {
     "data": {
      "text/plain": [
       "(80224, 20057)"
      ]
     },
     "execution_count": 9,
     "metadata": {},
     "output_type": "execute_result"
    }
   ],
   "source": [
    "len(to.train), len(to.valid)"
   ]
  },
  {
   "cell_type": "markdown",
   "id": "4de79610",
   "metadata": {},
   "source": [
    "# start to train the forest"
   ]
  },
  {
   "cell_type": "code",
   "execution_count": 10,
   "id": "2d4fee38",
   "metadata": {},
   "outputs": [],
   "source": [
    "xs,y = to.train.xs,to.train.y\n",
    "valid_xs,valid_y = to.valid.xs,to.valid.y"
   ]
  },
  {
   "cell_type": "code",
   "execution_count": 12,
   "id": "97beb73b",
   "metadata": {},
   "outputs": [
    {
     "name": "stdout",
     "output_type": "stream",
     "text": [
      "training\n",
      "finished training\n",
      "printing scores\n",
      "train: rmse:0.13008 std:0.13728 score:0.96354\n",
      "valid: rmse:0.21419 std:0.18098 score:0.90174\n",
      "oob_score:1.00000\n",
      "training time: 10.134610891342163\n"
     ]
    }
   ],
   "source": [
    "reg  = RfRegressor(xs, y, valid_xs, valid_y, [])\n",
    "reg.fit()"
   ]
  },
  {
   "cell_type": "code",
   "execution_count": null,
   "id": "cbe1cb23",
   "metadata": {},
   "outputs": [],
   "source": []
  }
 ],
 "metadata": {
  "kernelspec": {
   "display_name": "Python 3 (ipykernel)",
   "language": "python",
   "name": "python3"
  },
  "language_info": {
   "codemirror_mode": {
    "name": "ipython",
    "version": 3
   },
   "file_extension": ".py",
   "mimetype": "text/x-python",
   "name": "python",
   "nbconvert_exporter": "python",
   "pygments_lexer": "ipython3",
   "version": "3.9.7"
  }
 },
 "nbformat": 4,
 "nbformat_minor": 5
}
