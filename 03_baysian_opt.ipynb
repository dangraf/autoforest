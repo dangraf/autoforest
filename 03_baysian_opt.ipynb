{
 "cells": [
  {
   "cell_type": "code",
   "execution_count": null,
   "id": "438d936d",
   "metadata": {},
   "outputs": [],
   "source": [
    "# default_exp opt"
   ]
  },
  {
   "cell_type": "code",
   "execution_count": 1,
   "id": "1632bf56",
   "metadata": {},
   "outputs": [],
   "source": [
    "#export\n",
    "import GPyOpt\n",
    "import GPy\n",
    "import numpy as np\n",
    "from autoforest.reg import *"
   ]
  },
  {
   "cell_type": "code",
   "execution_count": 2,
   "id": "23800727",
   "metadata": {},
   "outputs": [],
   "source": [
    "%reload_ext autoreload\n",
    "%autoreload 2"
   ]
  },
  {
   "cell_type": "code",
   "execution_count": 3,
   "id": "0fafd71d",
   "metadata": {},
   "outputs": [],
   "source": [
    "#export\n",
    "class RfOptimizer:\n",
    "    domain       =[{'name': 'min_sample_leaf',      'type': 'continuous', 'domain': (2., 10.)},\n",
    "               {'name': 'n_estimators','type': 'continuous', 'domain': (10.,100.)},\n",
    "               {'name': 'max_features','type' : 'continuous', 'domain': (0.1, 1.0)}]\n",
    "    def x_to_dict(self, x):\n",
    "        return { d['name']:var for d, var in zip(self.domain,x)}\n",
    "    \n",
    "    def __init__(self, rf_regressor, \n",
    "                 key='val_rmse', \n",
    "                max_iter=50):\n",
    "        \n",
    "        self.rfmodel = rf_regressor\n",
    "        self.max_iter = max_iter\n",
    "        self.opt=None\n",
    "        self.key = key\n",
    "\n",
    "    def _fit_rf(self, x):\n",
    "        fs = np.zeros((x.shape[0],1))\n",
    "        for i in range(x.shape[0]):   # usually we only get one row of parameters for each call\n",
    "            fs[i] = 0\n",
    "            print(\" \")\n",
    "            self.rfmodel.create_model(**self.x_to_dict(x[i]))\n",
    "            result = self.rfmodel.fit()\n",
    "            print(result)\n",
    "            \n",
    "        return result[self.key]\n",
    "    \n",
    "    \n",
    "    def run_optimizer(self,acquisition_weight=0.2):\n",
    "        self.opt = GPyOpt.methods.BayesianOptimization(f = self._fit_rf,            # function to optimize       \n",
    "                                          domain = self.domain,         # box-constraints of the problem\n",
    "                                          acquisition_type ='LCB',       # LCB acquisition\n",
    "                                          acquisition_weight = acquisition_weight)   # Exploration exploitation\n",
    "        self.opt.run_optimization(max_iter=self.max_iter)\n",
    "    def plot_convergence(self):\n",
    "        if self.opt is not None:\n",
    "            self.opt.plot_convergence()\n",
    "            "
   ]
  },
  {
   "cell_type": "code",
   "execution_count": 4,
   "id": "e48b75ea",
   "metadata": {},
   "outputs": [],
   "source": [
    "filename = \"Buldozers.csv\"           # dataframe containing all the data\n",
    "y_col_name = 'SalePrice'         # name of the column we are going to predict\n",
    "split_pct = 0.2             # size of verification dataset\n",
    "datefield = 'saledate'     # name of the field containing the date-part\n",
    "ctd = ['saleDayofyear',\n",
    " 'state',\n",
    " 'saleDay',\n",
    " 'Track_Type',\n",
    " 'Stick_Length',\n",
    " 'fiModelDescriptor',\n",
    " 'Pad_Type',\n",
    " 'saleWeek',\n",
    " 'Transmission',\n",
    " 'Blade_Width',\n",
    " 'Scarifier',\n",
    " 'Blade_Type',\n",
    " 'auctioneerID',\n",
    " 'Enclosure_Type',\n",
    " 'saleDayofweek',\n",
    " 'fiModelSeries',\n",
    " 'Engine_Horsepower',\n",
    " 'UsageBand',\n",
    " 'saleMonth',\n",
    " 'Ripper',\n",
    " 'Coupler',\n",
    " 'Turbocharged',\n",
    " 'Undercarriage_Pad_Width',\n",
    " 'Travel_Controls',\n",
    " 'Thumb',\n",
    " 'Backhoe_Mounting',\n",
    " 'Tip_Control',\n",
    " 'Pushblock',\n",
    " 'Differential_Type',\n",
    " 'Pattern_Changer',\n",
    " 'MachineHoursCurrentMeter_na',\n",
    " 'Blade_Extension',\n",
    " 'Ride_Control',\n",
    " 'datasource',\n",
    " 'Forks',\n",
    " 'Steering_Controls',\n",
    " 'Grouser_Type',\n",
    " 'saleIs_month_end',\n",
    " 'saleIs_month_start',\n",
    " 'saleIs_quarter_end',\n",
    " 'saleIs_quarter_start',\n",
    " 'saleIs_year_start',\n",
    " 'saleIs_year_end',\n",
    " 'saleElapsed',\n",
    " 'SalesID',\n",
    " 'saleYear',\n",
    " 'Unnamed: 0',\n",
    " 'MachineID']"
   ]
  },
  {
   "cell_type": "code",
   "execution_count": 5,
   "id": "8867bcc6",
   "metadata": {},
   "outputs": [],
   "source": [
    "import pandas as pd\n",
    "from autoforest.cleaner import *\n",
    "from fastai.tabular.all import *\n"
   ]
  },
  {
   "cell_type": "code",
   "execution_count": 6,
   "id": "383f78ce",
   "metadata": {},
   "outputs": [],
   "source": [
    "df = pd.read_csv(filename, low_memory=False)\n",
    "df = fix_dataframe(df, datefield= datefield, y_col_name = y_col_name)\n",
    "splits = split_by_date(df, pct=0.2)\n",
    "reg = RfRegressor.from_dataframe(df, y_col_name, splits)\n",
    "#reg.ctd = ctd"
   ]
  },
  {
   "cell_type": "code",
   "execution_count": 7,
   "id": "a742e2e7",
   "metadata": {},
   "outputs": [],
   "source": [
    "opt = RfOptimizer(reg, max_iter=10)"
   ]
  },
  {
   "cell_type": "code",
   "execution_count": 8,
   "id": "635a3b1d",
   "metadata": {},
   "outputs": [
    {
     "name": "stdout",
     "output_type": "stream",
     "text": [
      " \n",
      "training\n",
      "finished\n",
      "training time: 8.152345418930054\n",
      "{'train_rmse': 0.15157699128783036, 'val_rmse': 0.2765508777331021, 'oob_error': 0.2661967259412376, 'oob_score': 0.8472860122750021}\n",
      " \n",
      "training\n",
      "finished\n",
      "training time: 15.610864162445068\n",
      "{'train_rmse': 0.19917285369834956, 'val_rmse': 0.2768029333768044, 'oob_error': 0.26312653915442963, 'oob_score': 0.8507883593342684}\n",
      " \n",
      "training\n",
      "finished\n",
      "training time: 14.971839666366577\n",
      "{'train_rmse': 0.20141638427977562, 'val_rmse': 0.2755706300883361, 'oob_error': 0.2636820193943891, 'oob_score': 0.8501576999900371}\n",
      " \n",
      "training\n",
      "finished\n",
      "training time: 12.958311319351196\n",
      "{'train_rmse': 0.12537598912612793, 'val_rmse': 0.27495901019657504, 'oob_error': 0.2631572672228922, 'oob_score': 0.8507535072570641}\n",
      " \n",
      "training\n",
      "finished\n",
      "training time: 24.191136121749878\n",
      "{'train_rmse': 0.1920983488513243, 'val_rmse': 0.27661928876367076, 'oob_error': 0.2633815852020783, 'oob_score': 0.85049896030277}\n",
      " \n",
      "training\n",
      "finished\n",
      "training time: 18.388091325759888\n",
      "{'train_rmse': 0.12485197046847435, 'val_rmse': 0.27677492101356926, 'oob_error': 0.2617788651349869, 'oob_score': 0.852312901002336}\n",
      " \n",
      "training\n",
      "finished\n",
      "training time: 9.473061800003052\n",
      "{'train_rmse': 0.22954415444641335, 'val_rmse': 0.2796426740992653, 'oob_error': 0.2701227171396421, 'oob_score': 0.8427482027559852}\n",
      " \n",
      "training\n",
      "finished\n",
      "training time: 6.76657247543335\n",
      "{'train_rmse': 0.18003048751023265, 'val_rmse': 0.2754088919347474, 'oob_error': 0.26503916650193504, 'oob_score': 0.8486112814887573}\n",
      " \n",
      "training\n",
      "finished\n",
      "training time: 19.675506591796875\n",
      "{'train_rmse': 0.2145946341128346, 'val_rmse': 0.2767405892845634, 'oob_error': 0.2650700297848387, 'oob_score': 0.8485760216065862}\n",
      " \n",
      "training\n",
      "finished\n",
      "training time: 19.872623205184937\n",
      "{'train_rmse': 0.21851767653584547, 'val_rmse': 0.27719898086540173, 'oob_error': 0.2657766344819921, 'oob_score': 0.8477676351827446}\n",
      " \n",
      "training\n",
      "finished\n",
      "training time: 6.384183883666992\n",
      "{'train_rmse': 0.14903631688256302, 'val_rmse': 0.2751639648629809, 'oob_error': 0.2645677018093571, 'oob_score': 0.8491493978313115}\n",
      " \n",
      "training\n",
      "finished\n",
      "training time: 9.087743282318115\n",
      "{'train_rmse': 0.13714132267884882, 'val_rmse': 0.2753816146495631, 'oob_error': 0.26321487445270303, 'oob_score': 0.8506881576040106}\n",
      " \n",
      "training\n",
      "finished\n",
      "training time: 7.566851377487183\n",
      "{'train_rmse': 0.1442044930390745, 'val_rmse': 0.2745433927255746, 'oob_error': 0.2632936236539235, 'oob_score': 0.8505988013526509}\n",
      " \n",
      "training\n",
      "finished\n",
      "training time: 7.093897342681885\n",
      "{'train_rmse': 0.17222490266020543, 'val_rmse': 0.27671919763831565, 'oob_error': 0.26666579742880187, 'oob_score': 0.8467473362945284}\n",
      " \n",
      "training\n",
      "finished\n",
      "training time: 11.132106304168701\n",
      "{'train_rmse': 0.14120092367783432, 'val_rmse': 0.275157022445178, 'oob_error': 0.2639576817601547, 'oob_score': 0.8498442355049614}\n"
     ]
    }
   ],
   "source": [
    "opt.run_optimizer()"
   ]
  },
  {
   "cell_type": "code",
   "execution_count": 9,
   "id": "052ccf6a",
   "metadata": {},
   "outputs": [
    {
     "data": {
      "image/png": "[encoded data removed]",
      "text/plain": [
       "<Figure size 720x360 with 2 Axes>"
      ]
     },
     "metadata": {
      "needs_background": "light"
     },
     "output_type": "display_data"
    }
   ],
   "source": [
    "opt.plot_convergence()"
   ]
  },
  {
   "cell_type": "code",
   "execution_count": null,
   "id": "0469a8e7",
   "metadata": {},
   "outputs": [],
   "source": []
  }
 ],
 "metadata": {
  "kernelspec": {
   "display_name": "Python 3 (ipykernel)",
   "language": "python",
   "name": "python3"
  },
  "language_info": {
   "codemirror_mode": {
    "name": "ipython",
    "version": 3
   },
   "file_extension": ".py",
   "mimetype": "text/x-python",
   "name": "python",
   "nbconvert_exporter": "python",
   "pygments_lexer": "ipython3",
   "version": "3.9.7"
  }
 },
 "nbformat": 4,
 "nbformat_minor": 5
}
